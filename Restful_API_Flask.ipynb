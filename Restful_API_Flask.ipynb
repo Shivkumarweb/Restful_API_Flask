{
  "cells": [
    {
      "cell_type": "markdown",
      "metadata": {
        "id": "6gDggEMLFOkJ"
      },
      "source": [
        "Q1. What is a RESTful API?\n",
        "  - A RESTful API (Representational State Transfer API) is an application programming interface (API) that follows REST principles to enable communication between a client and a server over HTTP."
      ]
    },
    {
      "cell_type": "markdown",
      "metadata": {
        "id": "lP1eQp9oFOgw"
      },
      "source": [
        "Q2. Explain the concept of API specification.\n",
        " - An API Specification is a formal document or standard that defines how an API should function, including its endpoints, request and response formats, authentication methods, and error handling. It serves as a blueprint for developers to build and integrate APIs consistently."
      ]
    },
    {
      "cell_type": "markdown",
      "metadata": {
        "id": "bzzi3BoyFOeV"
      },
      "source": [
        "Q3. What is Flask, and why is it popular for building APIs?\n",
        "  - Flask is a lightweight and flexible web framework for Python used to build web applications and APIs. It is designed to be simple and modular, making it a popular choice for developing RESTful APIs.\n",
        "  - it is popular for building APIs because\n",
        "  1. Lightweight & Minimalistic\n",
        "  2. Easy to Learn & Use\n",
        "  3. Supports RESTful API Development\n",
        "  4. Extensible with Plugins\n",
        "  5. Built-in Development Server & Debugging"
      ]
    },
    {
      "cell_type": "markdown",
      "metadata": {
        "id": "S6Od7-D0FOcO"
      },
      "source": [
        "Q4. What is routing in Flask?\n",
        "  - Routing in Flask is the process of mapping URLs (or endpoints) to specific functions that handle HTTP requests. It defines how a web application or API responds to client requests."
      ]
    },
    {
      "cell_type": "markdown",
      "metadata": {
        "id": "qjNWKu8uFOZ8"
      },
      "source": [
        "Q5. How do you create a simple Flask application?\n",
        "  - Flask makes it easy to create a web application or API in just a few steps. Here's how you can build a basic Flask app.\n",
        "\n"
      ]
    },
    {
      "cell_type": "code",
      "execution_count": null,
      "metadata": {
        "colab": {
          "base_uri": "https://localhost:8080/"
        },
        "id": "R8w3t8AHGhOY",
        "outputId": "f7db2b53-eb83-4b78-921e-e3bba7ced515"
      },
      "outputs": [
        {
          "name": "stdout",
          "output_type": "stream",
          "text": [
            " * Serving Flask app '__main__'\n",
            " * Debug mode: on\n"
          ]
        },
        {
          "name": "stderr",
          "output_type": "stream",
          "text": [
            "INFO:werkzeug:\u001b[31m\u001b[1mWARNING: This is a development server. Do not use it in a production deployment. Use a production WSGI server instead.\u001b[0m\n",
            " * Running on http://127.0.0.1:5000\n",
            "INFO:werkzeug:\u001b[33mPress CTRL+C to quit\u001b[0m\n",
            "INFO:werkzeug: * Restarting with stat\n"
          ]
        }
      ],
      "source": [
        "#creatin a basic and simple flask\n",
        "from flask import Flask\n",
        "\n",
        "app = Flask(__name__)\n",
        "\n",
        "@app.route('/')\n",
        "def home():\n",
        "    return \"Welcome to my Flask app!\"\n",
        "\n",
        "if __name__ == '__main__':\n",
        "    app.run(debug=True)\n"
      ]
    },
    {
      "cell_type": "markdown",
      "metadata": {
        "id": "FANGUgD0FOXw"
      },
      "source": [
        "Q6. What are HTTP methods used in RESTful APIs?\n",
        "  - RESTful APIs use HTTP methods to perform operations on resources. The most commonly used methods are:\n",
        "  1. GET\n",
        "  2. POST\n",
        "  3. PUT\n",
        "  4. DELETE\n",
        "  5. PATCH"
      ]
    },
    {
      "cell_type": "markdown",
      "metadata": {
        "id": "F5sqsKnbFOVj"
      },
      "source": [
        "Q7. What is the purpose of the @app.route() decorator in Flask?\n",
        "  - The @app.route() decorator in Flask is used to define URL routes in a web application. It maps a URL path to a Python function, allowing Flask to handle incoming HTTP requests and return appropriate responses."
      ]
    },
    {
      "cell_type": "markdown",
      "metadata": {
        "id": "9fcaCaOwFOTW"
      },
      "source": [
        "Q8. What is the difference between GET and POST HTTP methods?\n",
        "  - The GET method retrieves data from the server and sends parameters in the URL, making it less secure but cacheable and idempotent.\n",
        "  - The POST method sends data in the request body to create or update resources, making it more secure but not idempotent or cacheable."
      ]
    },
    {
      "cell_type": "markdown",
      "metadata": {
        "id": "80mq2Y0pH0li"
      },
      "source": [
        "Q9. How do you handle errors in Flask APIs?\n",
        "  - In Flask, error handling ensures the API returns meaningful responses when something goes wrong. This is done using HTTP status codes, custom error handlers, and try-except blocks."
      ]
    },
    {
      "cell_type": "markdown",
      "metadata": {
        "id": "oBmybYrHH0iG"
      },
      "source": [
        "Q10. How do you connect Flask to a SQL database?\n",
        "  -"
      ]
    },
    {
      "cell_type": "code",
      "execution_count": null,
      "metadata": {
        "id": "n16xc3-xIKuH"
      },
      "outputs": [],
      "source": [
        "!pip install Flask-SQLAlchemy\n",
        "\n",
        "from flask import Flask\n",
        "from flask_sqlalchemy import SQLAlchemy\n",
        "\n",
        "app = Flask(__name__)\n",
        "\n",
        "# Configure the database URI (SQLite example)\n",
        "app.config['SQLALCHEMY_DATABASE_URI'] = 'sqlite:///database.db'\n",
        "app.config['SQLALCHEMY_TRACK_MODIFICATIONS'] = False\n",
        "\n",
        "# Initialize the database\n",
        "db = SQLAlchemy(app)\n",
        "\n",
        "# Define a model (table)\n",
        "class User(db.Model):\n",
        "    id = db.Column(db.Integer, primary_key=True)\n",
        "    name = db.Column(db.String(100), nullable=False)\n",
        "    email = db.Column(db.String(100), unique=True, nullable=False)\n",
        "\n",
        "    def __repr__(self):\n",
        "        return f'<User {self.name}>'\n",
        "\n",
        "# Create the database and tables\n",
        "with app.app_context():\n",
        "    db.create_all()\n",
        "\n",
        "if __name__ == '__main__':\n",
        "    app.run(debug=True)\n"
      ]
    },
    {
      "cell_type": "markdown",
      "metadata": {
        "id": "QdnyBUsCH0bc"
      },
      "source": [
        "Q11. What is the role of Flask-SQLAlchemy?\n",
        "   - Flask-SQLAlchemy is an Object Relational Mapper (ORM) that simplifies database interactions in Flask applications. It acts as a bridge between Flask and SQL databases, allowing developers to work with databases using Python classes instead of raw SQL queries."
      ]
    },
    {
      "cell_type": "markdown",
      "metadata": {
        "id": "LyJRXObgH0YA"
      },
      "source": [
        "Q12. What are Flask blueprints, and how are they useful?\n",
        "   - Flask Blueprints are a way to organize a Flask application into modular components. They allow you to split large applications into smaller, manageable sections, making code more structured, reusable, and scalable.\n",
        "   "
      ]
    },
    {
      "cell_type": "markdown",
      "metadata": {
        "id": "pAW_wqaAH0Vm"
      },
      "source": [
        "Q13. What is the purpose of Flask's request object?\n",
        "   - Flask’s request object is used to access HTTP request data sent by the client (browser, API, or frontend). It helps retrieve form data, JSON data, headers, query parameters, and files from incoming requests."
      ]
    },
    {
      "cell_type": "markdown",
      "metadata": {
        "id": "2fMmI6FDH0Sd"
      },
      "source": [
        "Q14.  How do you create a RESTful API endpoint using Flask4\n",
        "  - To create a RESTful API in Flask, you need to:\n",
        "     1. Install Flask\n",
        "     2. Set up a Flask app\n",
        "     3. Define API routes using HTTP methods (GET, POST, PUT, DELETE)\n",
        "     4. Return JSON responses\n",
        "\n"
      ]
    },
    {
      "cell_type": "markdown",
      "metadata": {
        "id": "1ps-zp-SH0QO"
      },
      "source": [
        "Q15. What is the purpose of Flask's jsonify() function?\n",
        "   - Flask’s jsonify() function is used to convert Python data (dictionaries, lists, etc.) into a JSON response for API clients. It ensures proper formatting and sets the Content-Type: application/json header automatically."
      ]
    },
    {
      "cell_type": "markdown",
      "metadata": {
        "id": "A3j1tUfZH0OC"
      },
      "source": [
        "Q16. Explain Flask’s url_for() function?\n",
        "   - Flask’s url_for() function is used to dynamically generate URLs for routes based on their function names. It helps make URLs maintainable, avoids hardcoding, and supports URL changes without breaking links."
      ]
    },
    {
      "cell_type": "markdown",
      "metadata": {
        "id": "fK711Wt7H0Lv"
      },
      "source": [
        "Q17. How does Flask handle static files (CSS, JavaScript, etc.)?\n",
        "   - Flask serves static files (like CSS, JavaScript, and images) automatically from the static/ directory. By default, Flask looks for static files in a folder named static inside your project.\n",
        "\n"
      ]
    },
    {
      "cell_type": "markdown",
      "metadata": {
        "id": "FdJ5SgbEH0Jk"
      },
      "source": [
        "Q18. What is an API specification, and how does it help in building a Flask API?\n",
        "   - An API specification is a detailed document or definition that describes how an API should behave, including its endpoints, request/response formats, authentication methods, and expected data structures."
      ]
    },
    {
      "cell_type": "markdown",
      "metadata": {
        "id": "5UQqaTsgJxZh"
      },
      "source": [
        "Q19. What are HTTP status codes, and why are they important in a Flask API?\n",
        "  - HTTP status codes are three-digit numeric responses that a server sends to a client (browser, API consumer) to indicate the result of an HTTP request. They help the client understand whether a request was successful, failed, or requires further action."
      ]
    },
    {
      "cell_type": "markdown",
      "metadata": {
        "id": "WxMp1gNaJxUL"
      },
      "source": [
        "Q20. How do you handle POST requests in Flask?\n",
        "   - A POST request in Flask is used to send data to the server (e.g., creating a new user, submitting a form). The data is usually sent in JSON format in APIs.\n",
        "\n"
      ]
    },
    {
      "cell_type": "code",
      "execution_count": null,
      "metadata": {
        "id": "MeeyeSy0KBz2"
      },
      "outputs": [
        {
          "ename": "",
          "evalue": "",
          "output_type": "error",
          "traceback": [
            "\u001b[1;31mRunning cells with 'Python 3.13.2' requires the ipykernel package.\n",
            "\u001b[1;31mRun the following command to install 'ipykernel' into the Python environment. \n",
            "\u001b[1;31mCommand: '\"c:/Program Files/Python313/python.exe\" -m pip install ipykernel -U --user --force-reinstall'"
          ]
        }
      ],
      "source": [
        "#Handling a simple POST request\n",
        "from flask import Flask, request, jsonify\n",
        "\n",
        "app = Flask(__name__)\n",
        "\n",
        "@app.route('/submit', methods=['POST'])\n",
        "def submit():\n",
        "    data = request.json  # Get JSON data from the request\n",
        "    return jsonify({\"message\": \"Data received\", \"data\": data}), 201  # 201 Created\n",
        "\n",
        "if __name__ == '__main__':\n",
        "    app.run(debug=True)\n"
      ]
    },
    {
      "cell_type": "markdown",
      "metadata": {
        "id": "q3Gz6VRmJxNv"
      },
      "source": [
        "Q21. How would you secure a Flask API?\n",
        "   - Securing a Flask API means protecting it from unauthorized access, data breaches, and attacks.\n",
        "\n",
        "     1. Authentication & Authorization – Ensure only authorized users can access the API using JWT (JSON Web Tokens) or API keys.\n",
        "\n",
        "     2. Use HTTPS – Encrypt data transmission using SSL/TLS to prevent eavesdropping.\n",
        "\n",
        "     3. Validate User Input – Prevent SQL injection and XSS attacks by sanitizing and validating inputs.\n",
        "\n",
        "     4. Rate Limiting – Restrict the number of requests per user to prevent abuse (e.g., using Flask-Limiter).\n",
        "\n",
        "     5. Error Handling – Securely handle errors to prevent sensitive data leaks.\n",
        "\n",
        "     6. CORS (Cross-Origin Resource Sharing) – Control which domains can access your API to prevent unauthorized use."
      ]
    },
    {
      "cell_type": "markdown",
      "metadata": {
        "id": "9CWkzB2-JxHW"
      },
      "source": [
        "Q22. What is the significance of the Flask-RESTful extension?\n",
        "   - Flask-RESTful is an extension for Flask that simplifies the process of building RESTful APIs. It provides a structured way to define API resources, handle requests, and manage responses efficiently.\n",
        "\n"
      ]
    },
    {
      "cell_type": "markdown",
      "metadata": {
        "id": "k5AVqXq-JxCU"
      },
      "source": [
        "Q23.  What is the role of Flask’s session object?\n",
        "  - Flask’s session object is used to store and manage user-specific data across multiple requests. It allows persistent data storage between requests without using a database."
      ]
    },
    {
      "cell_type": "markdown",
      "metadata": {
        "id": "krbTBMpGLAti"
      },
      "source": [
        "***PRACRICAL QUESTIONS***"
      ]
    },
    {
      "cell_type": "markdown",
      "metadata": {
        "id": "exDFOqk7LLfO"
      },
      "source": [
        "Q1. How do you create a basic Flask application?"
      ]
    },
    {
      "cell_type": "code",
      "execution_count": null,
      "metadata": {
        "id": "6weQH2_TFGEH"
      },
      "outputs": [],
      "source": [
        "# How do you create a basic Flask application?\n",
        "from flask import Flask\n",
        "\n",
        "app = Flask(__name__)\n",
        "\n",
        "@app.route('/')\n",
        "def home():\n",
        "    return \"Hello, Flask!\"\n",
        "\n",
        "if __name__ == '__main__':\n",
        "    app.run(debug=True)\n"
      ]
    },
    {
      "cell_type": "markdown",
      "metadata": {
        "id": "nTvg79jaLWOH"
      },
      "source": [
        "Q2.  How do you serve static files like images or CSS in Flask?\n"
      ]
    },
    {
      "cell_type": "code",
      "execution_count": null,
      "metadata": {
        "id": "04iRQFvLLVgo"
      },
      "outputs": [],
      "source": [
        "# How do you serve static files like images or CSS in Flask?\n",
        "from flask import Flask, send_from_directory\n",
        "\n",
        "app = Flask(__name__)\n",
        "\n",
        "@app.route('/static/<path:filename>')\n",
        "def serve_static(filename):\n",
        "    return send_from_directory('static', filename)"
      ]
    },
    {
      "cell_type": "markdown",
      "metadata": {
        "id": "q6eVn1g3MNGv"
      },
      "source": [
        "Q3. How do you define different routes with different HTTP methods in Flask?\n"
      ]
    },
    {
      "cell_type": "code",
      "execution_count": null,
      "metadata": {
        "id": "7KqhBspgMLJN"
      },
      "outputs": [],
      "source": [
        "#How do you define different routes with different HTTP methods in Flask?\n",
        "#Basic Route with GET and POST\n",
        "from flask import Flask, request, jsonify\n",
        "\n",
        "app = Flask(__name__)\n",
        "\n",
        "@app.route('/', methods=['GET'])\n",
        "def home():\n",
        "    return \"Welcome to Flask API!\"\n",
        "\n",
        "@app.route('/data', methods=['GET', 'POST'])\n",
        "def handle_data():\n",
        "    if request.method == 'GET':\n",
        "        return jsonify({\"message\": \"This is a GET request\"})\n",
        "    elif request.method == 'POST':\n",
        "        data = request.json\n",
        "        return jsonify({\"message\": \"Data received\", \"data\": data}), 201\n",
        "\n",
        "if __name__ == '__main__':\n",
        "    app.run(debug=True)\n"
      ]
    },
    {
      "cell_type": "code",
      "execution_count": null,
      "metadata": {
        "id": "S37bjm2uMYG2"
      },
      "outputs": [],
      "source": [
        "#2. Using a Single Route for Multiple Methods\n",
        "from flask_restful import Resource, Api\n",
        "\n",
        "api = Api(app)\n",
        "\n",
        "class Data(Resource):\n",
        "    def get(self):\n",
        "        return {\"message\": \"This is a GET request\"}\n",
        "\n",
        "    def post(self):\n",
        "        data = request.json\n",
        "        return {\"message\": \"Data received\", \"data\": data}, 201\n",
        "\n",
        "api.add_resource(Data, \"/data\")\n"
      ]
    },
    {
      "cell_type": "markdown",
      "metadata": {
        "id": "y0cj33BWMeZ2"
      },
      "source": [
        "Q4.  How do you render HTML templates in Flask?"
      ]
    },
    {
      "cell_type": "code",
      "execution_count": null,
      "metadata": {
        "id": "kWMcCqVpMc7L"
      },
      "outputs": [],
      "source": [
        "# How do you render HTML templates in Flask?\n",
        "from flask import Flask, render_template\n",
        "\n",
        "app = Flask(__name__)\n",
        "\n",
        "@app.route('/')\n",
        "def home():\n",
        "    return render_template('index.html')\n",
        "\n",
        "if __name__ == '__main__':\n",
        "    app.run(debug=True)"
      ]
    },
    {
      "cell_type": "markdown",
      "metadata": {
        "id": "q2tCokuSMtHy"
      },
      "source": [
        "Q5.  How can you generate URLs for routes in Flask using url_for?"
      ]
    },
    {
      "cell_type": "code",
      "execution_count": null,
      "metadata": {
        "id": "WMqtcRCGMqRg"
      },
      "outputs": [],
      "source": [
        "#How can you generate URLs for routes in Flask using url_for?\n",
        "from flask import Flask, url_for\n",
        "\n",
        "app = Flask(__name__)\n",
        "\n",
        "@app.route('/')\n",
        "def home():\n",
        "    return \"Welcome to Flask!\"\n",
        "\n",
        "@app.route('/about')\n",
        "def about():\n",
        "    return \"This is the About Page\"\n",
        "\n",
        "if __name__ == '__main__':\n",
        "    with app.test_request_context():\n",
        "        print(url_for('home'))  # Output: '/'\n",
        "        print(url_for('about'))  # Output: '/about'\n"
      ]
    },
    {
      "cell_type": "markdown",
      "metadata": {
        "id": "w8bymlTPM-08"
      },
      "source": [
        "Q6.  How do you handle forms in Flask?"
      ]
    },
    {
      "cell_type": "code",
      "execution_count": null,
      "metadata": {
        "id": "xhpSn1zjMpED"
      },
      "outputs": [],
      "source": [
        "# How do you handle forms in Flask?\n",
        "from flask import Flask, render_template, request\n",
        "\n",
        "app = Flask(__name__)\n",
        "\n",
        "@app.route('/')\n",
        "def form():\n",
        "    return render_template('form.html')  # Render form template\n",
        "\n",
        "@app.route('/submit', methods=['POST'])\n",
        "def submit():\n",
        "    name = request.form['name']\n",
        "    email = request.form['email']\n",
        "    return f\"Received: Name - {name}, Email - {email}\"\n",
        "\n",
        "if __name__ == '__main__':\n",
        "    app.run(debug=True)\n"
      ]
    },
    {
      "cell_type": "markdown",
      "metadata": {
        "id": "U2aMU8GaNRPG"
      },
      "source": [
        "Q7. How can you validate form data in Flask?\n",
        "  "
      ]
    },
    {
      "cell_type": "code",
      "execution_count": null,
      "metadata": {
        "id": "Ic4fJ1mINQoQ"
      },
      "outputs": [],
      "source": [
        "#How can you validate form data in Flask?\n",
        "\n",
        "from flask import Flask, render_template, request\n",
        "\n",
        "app = Flask(__name__)\n",
        "\n",
        "@app.route('/')\n",
        "def form():\n",
        "    return render_template('form.html')\n",
        "\n",
        "@app.route('/submit', methods=['POST'])\n",
        "def submit():\n",
        "    name = request.form.get('name')\n",
        "    email = request.form.get('email')\n",
        "\n",
        "    if not name or not email:\n",
        "        return \"Error: Name and Email are required!\"\n",
        "\n",
        "    return f\"Received: Name - {name}, Email - {email}\"\n",
        "\n",
        "if __name__ == '__main__':\n",
        "    app.run(debug=True)\n"
      ]
    },
    {
      "cell_type": "markdown",
      "metadata": {
        "id": "dP7woOk4Nh-n"
      },
      "source": [
        "Q8. How do you manage sessions in Flask?\n"
      ]
    },
    {
      "cell_type": "code",
      "execution_count": null,
      "metadata": {
        "id": "99gwzm-9Nd0j"
      },
      "outputs": [],
      "source": [
        "#How do you manage sessions in Flask?\n",
        "from flask import Flask, session, redirect, url_for, request, render_template\n",
        "\n",
        "app = Flask(__name__)\n",
        "app.secret_key = 'your_secret_key'  # Required for session security\n",
        "\n",
        "@app.route('/')\n",
        "def home():\n",
        "    return render_template('index.html')\n",
        "\n",
        "@app.route('/set_session', methods=['POST'])\n",
        "def set_session():\n",
        "    username = request.form['username']\n",
        "    session['user'] = username  # Store data in session\n",
        "    return redirect(url_for('dashboard'))\n",
        "\n",
        "@app.route('/dashboard')\n",
        "def dashboard():\n",
        "    if 'user' in session:  # Check if session exists\n",
        "        return f\"Welcome, {session['user']}! <br><a href='/logout'>Logout</a>\"\n",
        "    return redirect(url_for('home'))\n",
        "\n",
        "@app.route('/logout')\n",
        "def logout():\n",
        "    session.pop('user', None)  # Remove user from session\n",
        "    return redirect(url_for('home'))\n",
        "\n",
        "if __name__ == '__main__':\n",
        "    app.run(debug=True)\n"
      ]
    },
    {
      "cell_type": "markdown",
      "metadata": {
        "id": "8DJLOeBhNqC_"
      },
      "source": [
        "Q9. How do you redirect to a different route in Flask?"
      ]
    },
    {
      "cell_type": "code",
      "execution_count": null,
      "metadata": {
        "colab": {
          "base_uri": "https://localhost:8080/"
        },
        "id": "QYHh5qIxNokR",
        "outputId": "ae4e7130-d864-48df-af52-d4a1a7d51c06"
      },
      "outputs": [
        {
          "name": "stdout",
          "output_type": "stream",
          "text": [
            " * Serving Flask app '__main__'\n",
            " * Debug mode: on\n"
          ]
        },
        {
          "name": "stderr",
          "output_type": "stream",
          "text": [
            "INFO:werkzeug:\u001b[31m\u001b[1mWARNING: This is a development server. Do not use it in a production deployment. Use a production WSGI server instead.\u001b[0m\n",
            " * Running on http://127.0.0.1:5000\n",
            "INFO:werkzeug:\u001b[33mPress CTRL+C to quit\u001b[0m\n",
            "INFO:werkzeug: * Restarting with stat\n"
          ]
        }
      ],
      "source": [
        "#How do you redirect to a different route in Flask?\n",
        "#Basic Redirect Example\n",
        "from flask import Flask, redirect, url_for\n",
        "\n",
        "app = Flask(__name__)\n",
        "\n",
        "@app.route('/')\n",
        "def home():\n",
        "    return \"Welcome to the Home Page! <a href='/go_dashboard'>Go to Dashboard</a>\"\n",
        "\n",
        "@app.route('/dashboard')\n",
        "def dashboard():\n",
        "    return \"Welcome to the Dashboard!\"\n",
        "\n",
        "@app.route('/go_dashboard')\n",
        "def go_dashboard():\n",
        "    return redirect(url_for('dashboard'))  # Redirects to '/dashboard'\n",
        "\n",
        "if __name__ == '__main__':\n",
        "    app.run(debug=True)\n"
      ]
    },
    {
      "cell_type": "markdown",
      "metadata": {
        "id": "wfeKn7BeN1m5"
      },
      "source": [
        "Q10. How do you handle errors in Flask (e.g., 404)?\n"
      ]
    },
    {
      "cell_type": "code",
      "execution_count": null,
      "metadata": {
        "id": "Ox9Kqv3uN0bw"
      },
      "outputs": [],
      "source": [
        "#How do you handle errors in Flask (e.g., 404)?\n",
        "#Handling a 404 (Page Not Found) Error\n",
        "from flask import Flask, render_template\n",
        "\n",
        "app = Flask(__name__)\n",
        "\n",
        "@app.route('/')\n",
        "def home():\n",
        "    return \"Welcome to the Home Page!\"\n",
        "\n",
        "# Custom 404 Error Handler\n",
        "@app.errorhandler(404)\n",
        "def not_found(error):\n",
        "    return render_template('404.html'), 404  # Returns a custom HTML page\n",
        "\n",
        "if __name__ == '__main__':\n",
        "    app.run(debug=True)\n"
      ]
    },
    {
      "cell_type": "markdown",
      "metadata": {
        "id": "Ca1IWxH6crG_"
      },
      "source": [
        "Q11. How do you structure a Flask app using Blueprints?"
      ]
    },
    {
      "cell_type": "code",
      "execution_count": null,
      "metadata": {
        "id": "OXyBER4vdBGR"
      },
      "outputs": [],
      "source": [
        "# How do you structure a Flask app using Blueprints?\n",
        "#  Create a Blueprint (user_routes.py)\n",
        "from flask import Blueprint\n",
        "\n",
        "user_bp = Blueprint('user', __name__)\n",
        "\n",
        "@user_bp.route('/profile')\n",
        "def profile():\n",
        "    return \"User Profile Page\"\n",
        "\n"
      ]
    },
    {
      "cell_type": "code",
      "execution_count": null,
      "metadata": {
        "id": "zk8i3cEdkp_L"
      },
      "outputs": [],
      "source": [
        "#Main Flask App (app.py)\n",
        "\n",
        "from flask import Flask\n",
        "from blueprints.user_routes import user_bp  # Import Blueprint\n",
        "\n",
        "app = Flask(__name__)\n",
        "\n",
        "# Register Blueprint\n",
        "app.register_blueprint(user_bp, url_prefix='/user')\n",
        "\n",
        "@app.route('/')\n",
        "def home():\n",
        "    return \"Welcome to the Flask App\"\n",
        "\n",
        "if __name__ == '__main__':\n",
        "    app.run(debug=True)\n"
      ]
    },
    {
      "cell_type": "markdown",
      "metadata": {
        "id": "nUJJ7qDwfiSv"
      },
      "source": [
        "Q12. How do you define a custom Jinja filter in Flask?\n"
      ]
    },
    {
      "cell_type": "code",
      "execution_count": null,
      "metadata": {
        "id": "NJJ7d2n2dQyM"
      },
      "outputs": [],
      "source": [
        "from flask import Flask, render_template\n",
        "\n",
        "app = Flask(__name__)\n",
        "\n",
        "# Define custom Jinja filter\n",
        "@app.template_filter('reverse')\n",
        "def reverse_string(s):\n",
        "    return s[::-1]\n",
        "\n",
        "@app.route('/')\n",
        "def home():\n",
        "    return render_template('index.html', name=\"aidni\")\n",
        "\n",
        "if __name__ == '__main__':\n",
        "    app.run(debug=True)\n"
      ]
    },
    {
      "cell_type": "markdown",
      "metadata": {
        "id": "Q7I8a0rygg-d"
      },
      "source": [
        "Q13.  How can you redirect with query parameters in Flask?"
      ]
    },
    {
      "cell_type": "code",
      "execution_count": null,
      "metadata": {
        "id": "Kn1K253kgnKX"
      },
      "outputs": [],
      "source": [
        "from flask import Flask, redirect, url_for, request\n",
        "\n",
        "app = Flask(__name__)\n",
        "\n",
        "@app.route('/')\n",
        "def home():\n",
        "    return \"Welcome to the Home Page!\"\n",
        "\n",
        "@app.route('/go-to-profile')\n",
        "def go_to_profile():\n",
        "    return redirect(url_for('profile', username=\"Shiv\", age=25))\n",
        "\n",
        "@app.route('/profile')\n",
        "def profile():\n",
        "    username = request.args.get('username', 'Guest')\n",
        "    age = request.args.get('age', 'Unknown')\n",
        "    return f\"Hello {username}, Age: {age}\"\n",
        "\n",
        "if __name__ == '__main__':\n",
        "    app.run(debug=True)\n"
      ]
    },
    {
      "cell_type": "markdown",
      "metadata": {
        "id": "l_882m2jg-KF"
      },
      "source": [
        "Q14. How do you return JSON responses in Flask?"
      ]
    },
    {
      "cell_type": "code",
      "execution_count": null,
      "metadata": {
        "id": "TxWjybGJhC6O"
      },
      "outputs": [],
      "source": [
        "#How do you return JSON responses in Flask?\n",
        "from flask import Flask, jsonify\n",
        "\n",
        "app = Flask(__name__)\n",
        "\n",
        "@app.route('/json')\n",
        "def json_response():\n",
        "    data = {\"message\": \"Hello, Flask!\", \"status\": \"success\"}\n",
        "    return jsonify(data)\n",
        "\n",
        "if __name__ == '__main__':\n",
        "    app.run(debug=True)\n"
      ]
    },
    {
      "cell_type": "markdown",
      "metadata": {
        "id": "j6WTtIGWiTld"
      },
      "source": [
        "Q15. How do you capture URL parameters in Flask?"
      ]
    },
    {
      "cell_type": "code",
      "execution_count": null,
      "metadata": {
        "id": "dJVmS9SLiTUm"
      },
      "outputs": [],
      "source": [
        "#How do you capture URL parameters in Flask?\n",
        "from flask import Flask\n",
        "\n",
        "app = Flask(__name__)\n",
        "\n",
        "@app.route('/user/<username>')\n",
        "def user_profile(username):\n",
        "    return f\"Hello, {username}!\"\n",
        "\n",
        "if __name__ == '__main__':\n",
        "    app.run(debug=True)\n"
      ]
    },
    {
      "cell_type": "code",
      "execution_count": null,
      "metadata": {
        "id": "GZnHhqrUhLPi"
      },
      "outputs": [],
      "source": []
    }
  ],
  "metadata": {
    "colab": {
      "provenance": []
    },
    "kernelspec": {
      "display_name": "Python 3",
      "name": "python3"
    },
    "language_info": {
      "name": "python",
      "version": "3.13.2"
    }
  },
  "nbformat": 4,
  "nbformat_minor": 0
}
